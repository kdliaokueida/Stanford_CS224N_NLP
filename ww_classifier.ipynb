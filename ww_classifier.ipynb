{
 "cells": [
  {
   "cell_type": "markdown",
   "metadata": {},
   "source": [
    "## CS 224N Lecture 3: Word Window Classification\n",
    "\n",
    "### Pytorch Exploration\n",
    "\n",
    "### Author: Matthew Lamm"
   ]
  },
  {
   "cell_type": "code",
   "execution_count": 1,
   "metadata": {},
   "outputs": [],
   "source": [
    "import pprint\n",
    "import torch\n",
    "import torch.nn as nn\n",
    "pp = pprint.PrettyPrinter()"
   ]
  },
  {
   "cell_type": "markdown",
   "metadata": {},
   "source": [
    "## Our Data\n",
    "\n",
    "The task at hand is to assign a label of 1 to words in a sentence that correspond with a LOCATION, and a label of 0 to everything else. \n",
    "\n",
    "In this simplified example, we only ever see spans of length 1."
   ]
  },
  {
   "cell_type": "code",
   "execution_count": 2,
   "metadata": {},
   "outputs": [],
   "source": [
    "train_sents = [s.lower().split() for s in [\"we 'll always have Paris\",\n",
    "                                           \"I live in Germany\",\n",
    "                                           \"He comes from Denmark\",\n",
    "                                           \"The capital of Denmark is Copenhagen\"]]\n",
    "train_labels = [[0, 0, 0, 0, 1],\n",
    "                [0, 0, 0, 1],\n",
    "                [0, 0, 0, 1],\n",
    "                [0, 0, 0, 1, 0, 1]]\n",
    "\n",
    "assert all([len(train_sents[i]) == len(train_labels[i]) for i in range(len(train_sents))])\n"
   ]
  },
  {
   "cell_type": "code",
   "execution_count": 4,
   "metadata": {},
   "outputs": [],
   "source": [
    "test_sents = [s.lower().split() for s in [\"She comes from Paris\"]]\n",
    "test_labels = [[0, 0, 0, 1]]\n",
    "\n",
    "assert all([len(test_sents[i]) == len(test_labels[i]) for i in range(len(test_sents))])"
   ]
  },
  {
   "cell_type": "markdown",
   "metadata": {},
   "source": [
    "## Creating a dataset of batched tensors."
   ]
  },
  {
   "cell_type": "markdown",
   "metadata": {},
   "source": [
    "PyTorch (like other deep learning frameworks) is optimized to work on __tensors__, which can be thought of as a generalization of vectors and matrices with arbitrarily large rank.\n",
    "\n",
    "Here well go over how to translate data to a list of vocabulary indices, and how to construct *batch tensors* out of the data for easy input to our model. \n",
    "\n",
    "We'll use the *torch.utils.data.DataLoader* object handle ease of batching and iteration."
   ]
  },
  {
   "cell_type": "markdown",
   "metadata": {},
   "source": [
    "### Converting tokenized sentence lists to vocabulary indices.\n",
    "\n",
    "Let's assume we have the following vocabulary:"
   ]
  },
  {
   "cell_type": "code",
   "execution_count": 3,
   "metadata": {},
   "outputs": [],
   "source": [
    "id_2_word = [\"<pad>\", \"<unk>\", \"we\", \"always\", \"have\", \"paris\",\n",
    "              \"i\", \"live\", \"in\", \"germany\",\n",
    "              \"he\", \"comes\", \"from\", \"denmark\",\n",
    "              \"the\", \"of\", \"is\", \"copenhagen\"]\n",
    "word_2_id = {w:i for i,w in enumerate(id_2_word)}"
   ]
  },
  {
   "cell_type": "code",
   "execution_count": 5,
   "metadata": {},
   "outputs": [
    {
     "name": "stdout",
     "output_type": "stream",
     "text": [
      "['we', \"'ll\", 'always', 'have', 'paris']\n"
     ]
    }
   ],
   "source": [
    "instance = train_sents[0]\n",
    "print(instance)"
   ]
  },
  {
   "cell_type": "code",
   "execution_count": 6,
   "metadata": {},
   "outputs": [],
   "source": [
    "def convert_tokens_to_inds(sentence, word_2_id):\n",
    "    return [word_2_id.get(t, word_2_id[\"<unk>\"]) for t in sentence]"
   ]
  },
  {
   "cell_type": "code",
   "execution_count": 7,
   "metadata": {},
   "outputs": [
    {
     "name": "stdout",
     "output_type": "stream",
     "text": [
      "[2, 1, 3, 4, 5]\n"
     ]
    }
   ],
   "source": [
    "token_inds = convert_tokens_to_inds(instance, word_2_id)\n",
    "pp.pprint(token_inds)"
   ]
  },
  {
   "cell_type": "markdown",
   "metadata": {},
   "source": [
    "Let's convince ourselves that worked:"
   ]
  },
  {
   "cell_type": "code",
   "execution_count": 8,
   "metadata": {},
   "outputs": [
    {
     "name": "stdout",
     "output_type": "stream",
     "text": [
      "['we', '<unk>', 'always', 'have', 'paris']\n"
     ]
    }
   ],
   "source": [
    "print([id_2_word[tok_idx] for tok_idx in token_inds])"
   ]
  },
  {
   "cell_type": "markdown",
   "metadata": {},
   "source": [
    "### Padding for windows."
   ]
  },
  {
   "cell_type": "markdown",
   "metadata": {},
   "source": [
    "In the word window classifier, for each word in the sentence we want to get the +/- n window around the word, where 0 <= n < len(sentence).\n",
    "\n",
    "In order for such windows to be defined for words at the beginning and ends of the sentence, we actually want to insert padding around the sentence before converting to indices:"
   ]
  },
  {
   "cell_type": "code",
   "execution_count": 9,
   "metadata": {},
   "outputs": [],
   "source": [
    "def pad_sentence_for_window(sentence, window_size, pad_token=\"<pad>\"):\n",
    "    return [pad_token]*window_size + sentence + [pad_token]*window_size "
   ]
  },
  {
   "cell_type": "code",
   "execution_count": 10,
   "metadata": {},
   "outputs": [
    {
     "name": "stdout",
     "output_type": "stream",
     "text": [
      "['<pad>', '<pad>', 'we', \"'ll\", 'always', 'have', 'paris', '<pad>', '<pad>']\n"
     ]
    }
   ],
   "source": [
    "window_size = 2\n",
    "instance = pad_sentence_for_window(train_sents[0], window_size)\n",
    "print(instance)"
   ]
  },
  {
   "cell_type": "markdown",
   "metadata": {},
   "source": [
    "Let's make sure this works with our vocabulary:"
   ]
  },
  {
   "cell_type": "code",
   "execution_count": 11,
   "metadata": {
    "scrolled": true
   },
   "outputs": [
    {
     "name": "stdout",
     "output_type": "stream",
     "text": [
      "['<pad>', '<pad>', 'we', '<unk>', 'always', 'have', 'paris', '<pad>', '<pad>']\n",
      "['<pad>', '<pad>', 'i', 'live', 'in', 'germany', '<pad>', '<pad>']\n",
      "['<pad>', '<pad>', 'he', 'comes', 'from', 'denmark', '<pad>', '<pad>']\n",
      "['<pad>', '<pad>', 'the', '<unk>', 'of', 'denmark', 'is', 'copenhagen', '<pad>', '<pad>']\n"
     ]
    }
   ],
   "source": [
    "for sent in train_sents:\n",
    "    tok_idxs = convert_tokens_to_inds(pad_sentence_for_window(sent, window_size), word_2_id)\n",
    "    print([id_2_word[idx] for idx in tok_idxs])"
   ]
  },
  {
   "cell_type": "markdown",
   "metadata": {},
   "source": [
    "### Batching sentences together with a DataLoader"
   ]
  },
  {
   "cell_type": "markdown",
   "metadata": {},
   "source": [
    "When we train our model, we rarely update with respect to a single training instance at a time, because a single instance provides a very noisy estimate of the global loss's gradient. We instead construct small *batches* of data, and update parameters for each batch. "
   ]
  },
  {
   "cell_type": "markdown",
   "metadata": {},
   "source": [
    "Given some batch size, we want to construct batch tensors out of the word index lists we've just created with our vocab.\n",
    "\n",
    "For each length B list of inputs, we'll have to:\n",
    "\n",
    "    (1) Add window padding to sentences in the batch like we just saw.\n",
    "    (2) Add additional padding so that each sentence in the batch is the same length.\n",
    "    (3) Make sure our labels are in the desired format.\n",
    "\n",
    "At the level of the dataest we want:\n",
    "\n",
    "    (4) Easy shuffling, because shuffling from one training epoch to the next gets rid of \n",
    "        pathological batches that are tough to learn from.\n",
    "    (5) Making sure we shuffle inputs and their labels together!\n",
    "    \n",
    "PyTorch provides us with an object *torch.utils.data.DataLoader* that gets us (4) and (5). All that's required of us is to specify a *collate_fn* that tells it how to do (1), (2), and (3). "
   ]
  },
  {
   "cell_type": "code",
   "execution_count": 12,
   "metadata": {},
   "outputs": [
    {
     "name": "stdout",
     "output_type": "stream",
     "text": [
      "('raw train label instance', tensor([0, 0, 0, 0, 1]))\n",
      "torch.Size([5])\n"
     ]
    }
   ],
   "source": [
    "l = torch.LongTensor(train_labels[0])\n",
    "pp.pprint((\"raw train label instance\", l))\n",
    "print(l.size())\n"
   ]
  },
  {
   "cell_type": "code",
   "execution_count": 13,
   "metadata": {},
   "outputs": [
    {
     "name": "stdout",
     "output_type": "stream",
     "text": [
      "('unfilled label instance',\n",
      " tensor([[0., 0., 0., 0., 0.],\n",
      "        [0., 0., 0., 0., 0.]]))\n",
      "torch.Size([2, 5])\n"
     ]
    }
   ],
   "source": [
    "one_hots = torch.zeros((2, len(l)))\n",
    "pp.pprint((\"unfilled label instance\", one_hots))\n",
    "print(one_hots.size())"
   ]
  },
  {
   "cell_type": "code",
   "execution_count": 14,
   "metadata": {},
   "outputs": [
    {
     "name": "stdout",
     "output_type": "stream",
     "text": [
      "('one-hot labels', tensor([[0., 0., 0., 0., 0.],\n",
      "        [0., 0., 0., 0., 1.]]))\n"
     ]
    }
   ],
   "source": [
    "one_hots[1] = l\n",
    "pp.pprint((\"one-hot labels\", one_hots))"
   ]
  },
  {
   "cell_type": "code",
   "execution_count": 15,
   "metadata": {},
   "outputs": [
    {
     "name": "stdout",
     "output_type": "stream",
     "text": [
      "('one-hot labels',\n",
      " tensor([[255., 255., 255., 255., 254.],\n",
      "        [  0.,   0.,   0.,   0.,   1.]]))\n"
     ]
    }
   ],
   "source": [
    "l_not = ~l.byte()\n",
    "one_hots[0] = l_not\n",
    "pp.pprint((\"one-hot labels\", one_hots))"
   ]
  },
  {
   "cell_type": "code",
   "execution_count": 16,
   "metadata": {},
   "outputs": [],
   "source": [
    "from torch.utils.data import DataLoader\n",
    "from functools import partial"
   ]
  },
  {
   "cell_type": "code",
   "execution_count": 17,
   "metadata": {},
   "outputs": [],
   "source": [
    "def my_collate(data, window_size, word_2_id):\n",
    "    \"\"\"\n",
    "    For some chunk of sentences and labels\n",
    "        -add winow padding\n",
    "        -pad for lengths using pad_sequence\n",
    "        -convert our labels to one-hots\n",
    "        -return padded inputs, one-hot labels, and lengths\n",
    "    \"\"\"\n",
    "    \n",
    "    x_s, y_s = zip(*data)\n",
    "\n",
    "    # deal with input sentences as we've seen\n",
    "    window_padded = [convert_tokens_to_inds(pad_sentence_for_window(sentence, window_size), word_2_id)\n",
    "                                                                                  for sentence in x_s]\n",
    "    # append zeros to each list of token ids in batch so that they are all the same length\n",
    "    padded = nn.utils.rnn.pad_sequence([torch.LongTensor(t) for t in window_padded], batch_first=True)\n",
    "    \n",
    "    # convert labels to one-hots\n",
    "    labels = []\n",
    "    lengths = []\n",
    "    for y in y_s:\n",
    "        lengths.append(len(y))\n",
    "        label = torch.zeros((len(y),2 ))\n",
    "        true = torch.LongTensor(y) \n",
    "        false = ~true.byte()\n",
    "        label[:, 0] = false\n",
    "        label[:, 1] = true\n",
    "        labels.append(label)\n",
    "    padded_labels = nn.utils.rnn.pad_sequence(labels, batch_first=True)\n",
    "    \n",
    "    return padded.long(), padded_labels, torch.LongTensor(lengths)"
   ]
  },
  {
   "cell_type": "code",
   "execution_count": 18,
   "metadata": {},
   "outputs": [],
   "source": [
    "# Shuffle True is good practice for train loaders.\n",
    "# Use functools.partial to construct a partially populated collate function\n",
    "example_loader = DataLoader(list(zip(train_sents, \n",
    "                                                      train_labels)), \n",
    "                                             batch_size=2, \n",
    "                                             shuffle=True, \n",
    "                                             collate_fn=partial(my_collate, window_size=2, word_2_id=word_2_id))"
   ]
  },
  {
   "cell_type": "code",
   "execution_count": 19,
   "metadata": {},
   "outputs": [
    {
     "name": "stdout",
     "output_type": "stream",
     "text": [
      "('inputs',\n",
      " tensor([[ 0,  0, 10, 11, 12, 13,  0,  0,  0,  0],\n",
      "        [ 0,  0, 14,  1, 15, 13, 16, 17,  0,  0]]),\n",
      " torch.Size([2, 10]))\n",
      "('labels',\n",
      " tensor([[[255.,   0.],\n",
      "         [255.,   0.],\n",
      "         [255.,   0.],\n",
      "         [254.,   1.],\n",
      "         [  0.,   0.],\n",
      "         [  0.,   0.]],\n",
      "\n",
      "        [[255.,   0.],\n",
      "         [255.,   0.],\n",
      "         [255.,   0.],\n",
      "         [254.,   1.],\n",
      "         [255.,   0.],\n",
      "         [254.,   1.]]]),\n",
      " torch.Size([2, 6, 2]))\n",
      "tensor([4, 6])\n"
     ]
    }
   ],
   "source": [
    "for batched_input, batched_labels, batch_lengths in example_loader:\n",
    "    pp.pprint((\"inputs\", batched_input, batched_input.size()))\n",
    "    pp.pprint((\"labels\", batched_labels, batched_labels.size()))\n",
    "    pp.pprint(batch_lengths)\n",
    "    break"
   ]
  },
  {
   "cell_type": "markdown",
   "metadata": {},
   "source": [
    "## Modeling\n",
    "\n",
    "### Thinking through vectorization of word windows.\n",
    "Before we go ahead and build our model, let's think about the first thing it needs to do to its inputs.\n",
    "\n",
    "We're passed batches of sentences. For each sentence i in the batch, for each word j in the sentence, we want to construct a single tensor out of the embeddings surrounding word j in the +/- n window.\n",
    "\n",
    "Thus, the first thing we're going to need a (B, L, 2N+1) tensor of token indices."
   ]
  },
  {
   "cell_type": "markdown",
   "metadata": {},
   "source": [
    "A *terrible* but nevertheless informative *iterative* solution looks something like the following, where we iterate through batch elements in our (dummy), iterating non-padded word positions in those, and for each non-padded word position, construct a window:"
   ]
  },
  {
   "cell_type": "code",
   "execution_count": 20,
   "metadata": {},
   "outputs": [
    {
     "name": "stdout",
     "output_type": "stream",
     "text": [
      "tensor([[0, 0, 1, 2, 3, 4, 0, 0],\n",
      "        [0, 0, 5, 6, 7, 8, 0, 0]])\n"
     ]
    }
   ],
   "source": [
    "dummy_input = torch.zeros(2, 8).long()\n",
    "dummy_input[:,2:-2] = torch.arange(1,9).view(2,4)\n",
    "pp.pprint(dummy_input)"
   ]
  },
  {
   "cell_type": "code",
   "execution_count": 21,
   "metadata": {},
   "outputs": [
    {
     "name": "stdout",
     "output_type": "stream",
     "text": [
      "torch.Size([2, 4, 5])\n",
      "tensor([[[0, 0, 1, 2, 3],\n",
      "         [0, 1, 2, 3, 4],\n",
      "         [1, 2, 3, 4, 0],\n",
      "         [2, 3, 4, 0, 0]],\n",
      "\n",
      "        [[0, 0, 5, 6, 7],\n",
      "         [0, 5, 6, 7, 8],\n",
      "         [5, 6, 7, 8, 0],\n",
      "         [6, 7, 8, 0, 0]]])\n"
     ]
    }
   ],
   "source": [
    "dummy_output = [[[dummy_input[i, j-2+k].item() for k in range(2*2+1)] \n",
    "                                                     for j in range(2, 6)] \n",
    "                                                            for i in range(2)]\n",
    "dummy_output = torch.LongTensor(dummy_output)\n",
    "print(dummy_output.size())\n",
    "pp.pprint(dummy_output)"
   ]
  },
  {
   "cell_type": "markdown",
   "metadata": {},
   "source": [
    "*Technically* it works: For each element in the batch, for each word in the original sentence and ignoring window padding, we've got the 5 token indices centered at that word. But in practice will be crazy slow."
   ]
  },
  {
   "cell_type": "markdown",
   "metadata": {},
   "source": [
    "Instead, we ideally want to find the right tensor operation in the PyTorch arsenal. Here, that happens to be __Tensor.unfold__."
   ]
  },
  {
   "cell_type": "code",
   "execution_count": 22,
   "metadata": {},
   "outputs": [
    {
     "data": {
      "text/plain": [
       "tensor([[[0, 0, 1, 2, 3],\n",
       "         [0, 1, 2, 3, 4],\n",
       "         [1, 2, 3, 4, 0],\n",
       "         [2, 3, 4, 0, 0]],\n",
       "\n",
       "        [[0, 0, 5, 6, 7],\n",
       "         [0, 5, 6, 7, 8],\n",
       "         [5, 6, 7, 8, 0],\n",
       "         [6, 7, 8, 0, 0]]])"
      ]
     },
     "execution_count": 22,
     "metadata": {},
     "output_type": "execute_result"
    }
   ],
   "source": [
    "dummy_input.unfold(1, 2*2+1, 1)"
   ]
  },
  {
   "cell_type": "markdown",
   "metadata": {},
   "source": [
    "### A model in full."
   ]
  },
  {
   "cell_type": "markdown",
   "metadata": {},
   "source": [
    "In PyTorch, we implement models by extending the nn.Module class. Minimally, this requires implementing an *\\_\\_init\\_\\_* function and a *forward* function.\n",
    "\n",
    "In *\\_\\_init\\_\\_* we want to store model parameters (weights) and hyperparameters (dimensions).\n"
   ]
  },
  {
   "cell_type": "code",
   "execution_count": 23,
   "metadata": {},
   "outputs": [],
   "source": [
    "class SoftmaxWordWindowClassifier(nn.Module):\n",
    "    \"\"\"\n",
    "    A one-layer, binary word-window classifier.\n",
    "    \"\"\"\n",
    "    def __init__(self, config, vocab_size, pad_idx=0):\n",
    "        super(SoftmaxWordWindowClassifier, self).__init__()\n",
    "        \"\"\"\n",
    "        Instance variables.\n",
    "        \"\"\"\n",
    "        self.window_size = 2*config[\"half_window\"]+1\n",
    "        self.embed_dim = config[\"embed_dim\"]\n",
    "        self.hidden_dim = config[\"hidden_dim\"]\n",
    "        self.num_classes = config[\"num_classes\"]\n",
    "        self.freeze_embeddings = config[\"freeze_embeddings\"]\n",
    "        \n",
    "        \"\"\"\n",
    "        Embedding layer\n",
    "        -model holds an embedding for each layer in our vocab\n",
    "        -sets aside a special index in the embedding matrix for padding vector (of zeros)\n",
    "        -by default, embeddings are parameters (so gradients pass through them)\n",
    "        \"\"\"\n",
    "        self.embed_layer = nn.Embedding(vocab_size, self.embed_dim, padding_idx=pad_idx)\n",
    "        if self.freeze_embeddings:\n",
    "            self.embed_layer.weight.requires_grad = False\n",
    "        \n",
    "        \"\"\"\n",
    "        Hidden layer\n",
    "        -we want to map embedded word windows of dim (window_size+1)*self.embed_dim to a hidden layer.\n",
    "        -nn.Sequential allows you to efficiently specify sequentially structured models\n",
    "            -first the linear transformation is evoked on the embedded word windows\n",
    "            -next the nonlinear transformation tanh is evoked.\n",
    "        \"\"\"\n",
    "        self.hidden_layer = nn.Sequential(nn.Linear(self.window_size*self.embed_dim, \n",
    "                                                    self.hidden_dim), \n",
    "                                          nn.Tanh())\n",
    "        \n",
    "        \"\"\"\n",
    "        Output layer\n",
    "        -we want to map elements of the output layer (of size self.hidden dim) to a number of classes.\n",
    "        \"\"\"\n",
    "        self.output_layer = nn.Linear(self.hidden_dim, self.num_classes)\n",
    "        \n",
    "        \"\"\"\n",
    "        Softmax\n",
    "        -The final step of the softmax classifier: mapping final hidden layer to class scores.\n",
    "        -pytorch has both logsoftmax and softmax functions (and many others)\n",
    "        -since our loss is the negative LOG likelihood, we use logsoftmax\n",
    "        -technically you can take the softmax, and take the log but PyTorch's implementation\n",
    "         is optimized to avoid numerical underflow issues.\n",
    "        \"\"\"\n",
    "        self.log_softmax = nn.LogSoftmax(dim=2)\n",
    "        \n",
    "    def forward(self, inputs):\n",
    "        \"\"\"\n",
    "        Let B:= batch_size\n",
    "            L:= window-padded sentence length\n",
    "            D:= self.embed_dim\n",
    "            S:= self.window_size\n",
    "            H:= self.hidden_dim\n",
    "            \n",
    "        inputs: a (B, L) tensor of token indices\n",
    "        \"\"\"\n",
    "        B, L = inputs.size()\n",
    "        \n",
    "        \"\"\"\n",
    "        Reshaping.\n",
    "        Takes in a (B, L) LongTensor\n",
    "        Outputs a (B, L~, S) LongTensor\n",
    "        \"\"\"\n",
    "        # Fist, get our word windows for each word in our input.\n",
    "        token_windows = inputs.unfold(1, self.window_size, 1)\n",
    "        _, adjusted_length, _ = token_windows.size()\n",
    "        \n",
    "        # Good idea to do internal tensor-size sanity checks, at the least in comments!\n",
    "        assert token_windows.size() == (B, adjusted_length, self.window_size)\n",
    "        \n",
    "        \"\"\"\n",
    "        Embedding.\n",
    "        Takes in a torch.LongTensor of size (B, L~, S) \n",
    "        Outputs a (B, L~, S, D) FloatTensor.\n",
    "        \"\"\"\n",
    "        embedded_windows = self.embed_layer(token_windows)\n",
    "        \n",
    "        \"\"\"\n",
    "        Reshaping.\n",
    "        Takes in a (B, L~, S, D) FloatTensor.\n",
    "        Resizes it into a (B, L~, S*D) FloatTensor.\n",
    "        -1 argument \"infers\" what the last dimension should be based on leftover axes.\n",
    "        \"\"\"\n",
    "        embedded_windows = embedded_windows.view(B, adjusted_length, -1)\n",
    "        \n",
    "        \"\"\"\n",
    "        Layer 1.\n",
    "        Takes in a (B, L~, S*D) FloatTensor.\n",
    "        Resizes it into a (B, L~, H) FloatTensor\n",
    "        \"\"\"\n",
    "        layer_1 = self.hidden_layer(embedded_windows)\n",
    "        \n",
    "        \"\"\"\n",
    "        Layer 2\n",
    "        Takes in a (B, L~, H) FloatTensor.\n",
    "        Resizes it into a (B, L~, 2) FloatTensor.\n",
    "        \"\"\"\n",
    "        output = self.output_layer(layer_1)\n",
    "        \n",
    "        \"\"\"\n",
    "        Softmax.\n",
    "        Takes in a (B, L~, 2) FloatTensor of unnormalized class scores.\n",
    "        Outputs a (B, L~, 2) FloatTensor of (log-)normalized class scores.\n",
    "        \"\"\"\n",
    "        output = self.log_softmax(output)\n",
    "        \n",
    "        return output"
   ]
  },
  {
   "cell_type": "markdown",
   "metadata": {},
   "source": [
    "### Training.\n",
    "\n",
    "Now that we've got a model, we have to train it."
   ]
  },
  {
   "cell_type": "code",
   "execution_count": 24,
   "metadata": {},
   "outputs": [],
   "source": [
    "def loss_function(outputs, labels, lengths):\n",
    "    \"\"\"Computes negative LL loss on a batch of model predictions.\"\"\"\n",
    "    B, L, num_classes = outputs.size()\n",
    "    num_elems = lengths.sum().float()\n",
    "        \n",
    "    # get only the values with non-zero labels\n",
    "    loss = outputs*labels\n",
    "    \n",
    "    # rescale average\n",
    "    return -loss.sum() / num_elems"
   ]
  },
  {
   "cell_type": "code",
   "execution_count": 25,
   "metadata": {},
   "outputs": [],
   "source": [
    "def train_epoch(loss_function, optimizer, model, train_data):\n",
    "    \n",
    "    ## For each batch, we must reset the gradients\n",
    "    ## stored by the model.   \n",
    "    total_loss = 0\n",
    "    for batch, labels, lengths in train_data:\n",
    "        # clear gradients\n",
    "        optimizer.zero_grad()\n",
    "        # evoke model in training mode on batch\n",
    "        outputs = model.forward(batch)\n",
    "        # compute loss w.r.t batch\n",
    "        loss = loss_function(outputs, labels, lengths)\n",
    "        # pass gradients back, startiing on loss value\n",
    "        loss.backward()\n",
    "        # update parameters\n",
    "        optimizer.step()\n",
    "        total_loss += loss.item()\n",
    "    \n",
    "    # return the total to keep track of how you did this time around\n",
    "    return total_loss\n",
    "    "
   ]
  },
  {
   "cell_type": "code",
   "execution_count": 26,
   "metadata": {},
   "outputs": [],
   "source": [
    "config = {\"batch_size\": 4,\n",
    "          \"half_window\": 2,\n",
    "          \"embed_dim\": 25,\n",
    "          \"hidden_dim\": 25,\n",
    "          \"num_classes\": 2,\n",
    "          \"freeze_embeddings\": False,\n",
    "         }\n",
    "learning_rate = .0002\n",
    "num_epochs = 10000\n",
    "model = SoftmaxWordWindowClassifier(config, len(word_2_id))\n",
    "optimizer = torch.optim.SGD(model.parameters(), lr=learning_rate)"
   ]
  },
  {
   "cell_type": "code",
   "execution_count": 27,
   "metadata": {},
   "outputs": [],
   "source": [
    "train_loader = torch.utils.data.DataLoader(list(zip(train_sents, train_labels)), \n",
    "                                           batch_size=2, \n",
    "                                           shuffle=True, \n",
    "                                           collate_fn=partial(my_collate, window_size=2, word_2_id=word_2_id))"
   ]
  },
  {
   "cell_type": "code",
   "execution_count": 28,
   "metadata": {
    "scrolled": false
   },
   "outputs": [
    {
     "name": "stdout",
     "output_type": "stream",
     "text": [
      "[363.2432861328125, 6.446036100387573, 4.701103925704956, 4.261751174926758, 4.069244146347046, 3.9453115463256836, 3.8719528913497925, 3.824644923210144, 3.7719202041625977, 3.7343695163726807, 3.702341675758362, 3.6748472452163696, 3.656307101249695, 3.6311020851135254, 3.618157744407654, 3.5981513261795044, 3.589515447616577, 3.572775721549988, 3.56750750541687, 3.558369755744934, 3.5501999855041504, 3.538035035133362, 3.5318312644958496, 3.525559425354004, 3.5248665809631348, 3.5152645111083984, 3.511046051979065, 3.5111639499664307, 3.507301449775696, 3.4995291233062744, 3.4962505102157593, 3.492947816848755, 3.4944628477096558, 3.4876904487609863, 3.4852019548416138, 3.4869154691696167, 3.4846912622451782, 3.478622555732727, 3.476673722267151, 3.4746479988098145, 3.4770419597625732, 3.471464514732361, 3.469904065132141, 3.468438744544983, 3.467033863067627, 3.4695520401000977, 3.464425802230835, 3.463208317756653, 3.4658730030059814, 3.4607874155044556, 3.4636870622634888, 3.4626572132110596, 3.46168315410614, 3.460734724998474, 3.455930471420288, 3.458975076675415, 3.4581371545791626, 3.457332491874695, 3.4527043104171753, 3.452104330062866, 3.4550986289978027, 3.450705647468567, 3.4499329328536987, 3.449403762817383, 3.448795437812805, 3.448210597038269, 3.4476377964019775, 3.4507397413253784, 3.450200080871582, 3.4460177421569824, 3.44551157951355, 3.4449130296707153, 3.444440484046936, 3.4477213621139526, 3.443642735481262, 3.4468343257904053, 3.4464021921157837, 3.4422757625579834, 3.4455846548080444, 3.4451987743377686, 3.4448044300079346, 3.4407472610473633, 3.44048810005188, 3.4400357007980347, 3.439794421195984, 3.4430476427078247, 3.4390543699264526, 3.4388281106948853, 3.438441514968872, 3.4382277727127075, 3.437851667404175, 3.441219687461853, 3.437365770339966, 3.437019109725952, 3.4403918981552124, 3.440122127532959, 3.4363112449645996, 3.439617395401001, 3.4357590675354004, 3.4391374588012695]\n"
     ]
    }
   ],
   "source": [
    "losses = []\n",
    "for epoch in range(num_epochs):\n",
    "    epoch_loss = train_epoch(loss_function, optimizer, model, train_loader)\n",
    "    if epoch % 100 == 0:\n",
    "        losses.append(epoch_loss)\n",
    "print(losses)"
   ]
  },
  {
   "cell_type": "markdown",
   "metadata": {},
   "source": [
    "### Prediction."
   ]
  },
  {
   "cell_type": "code",
   "execution_count": 29,
   "metadata": {},
   "outputs": [],
   "source": [
    "test_loader = torch.utils.data.DataLoader(list(zip(test_sents, test_labels)), \n",
    "                                           batch_size=1, \n",
    "                                           shuffle=False, \n",
    "                                           collate_fn=partial(my_collate, window_size=2, word_2_id=word_2_id))"
   ]
  },
  {
   "cell_type": "code",
   "execution_count": 30,
   "metadata": {},
   "outputs": [
    {
     "name": "stdout",
     "output_type": "stream",
     "text": [
      "tensor([[0, 0, 0, 0]])\n",
      "tensor([[0, 0, 0, 0]])\n"
     ]
    }
   ],
   "source": [
    "for test_instance, labs, _ in test_loader:\n",
    "    outputs = model.forward(test_instance)\n",
    "    print(torch.argmax(outputs, dim=2))\n",
    "    print(torch.argmax(labs, dim=2))"
   ]
  },
  {
   "cell_type": "code",
   "execution_count": null,
   "metadata": {},
   "outputs": [],
   "source": []
  }
 ],
 "metadata": {
  "kernelspec": {
   "display_name": "cs224n",
   "language": "python",
   "name": "cs224n"
  },
  "language_info": {
   "codemirror_mode": {
    "name": "ipython",
    "version": 3
   },
   "file_extension": ".py",
   "mimetype": "text/x-python",
   "name": "python",
   "nbconvert_exporter": "python",
   "pygments_lexer": "ipython3",
   "version": "3.7.9"
  }
 },
 "nbformat": 4,
 "nbformat_minor": 2
}
